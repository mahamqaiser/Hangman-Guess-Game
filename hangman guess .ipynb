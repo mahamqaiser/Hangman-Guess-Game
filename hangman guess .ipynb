{
 "cells": [
  {
   "cell_type": "code",
   "execution_count": 3,
   "id": "8f1db700-42b3-44a0-9af9-0c4a95c45142",
   "metadata": {},
   "outputs": [
    {
     "name": "stdout",
     "output_type": "stream",
     "text": [
      "Welcome to Hangman!\n",
      "You have 6 incorrect guesses allowed.\n",
      "\n",
      "\n",
      "  +---+\n",
      "  |   |\n",
      "      |\n",
      "      |\n",
      "      |\n",
      "=========\n",
      "Word:  _ _ _ _ _\n",
      "Guessed letters: (none)\n",
      "Incorrect guesses left: 6\n",
      "\n"
     ]
    },
    {
     "name": "stdin",
     "output_type": "stream",
     "text": [
      "Enter a single letter:  a\n"
     ]
    },
    {
     "name": "stdout",
     "output_type": "stream",
     "text": [
      "Good guess!\n",
      "\n",
      "\n",
      "  +---+\n",
      "  |   |\n",
      "      |\n",
      "      |\n",
      "      |\n",
      "=========\n",
      "Word:  _ _ _ _ a\n",
      "Guessed letters: a\n",
      "Incorrect guesses left: 6\n",
      "\n"
     ]
    },
    {
     "name": "stdin",
     "output_type": "stream",
     "text": [
      "Enter a single letter:  h\n"
     ]
    },
    {
     "name": "stdout",
     "output_type": "stream",
     "text": [
      "Wrong guess!\n",
      "\n",
      "\n",
      "  +---+\n",
      "  |   |\n",
      "  O   |\n",
      "      |\n",
      "      |\n",
      "=========\n",
      "Word:  _ _ _ _ a\n",
      "Guessed letters: a h\n",
      "Incorrect guesses left: 5\n",
      "\n"
     ]
    },
    {
     "name": "stdin",
     "output_type": "stream",
     "text": [
      "Enter a single letter:  t\n"
     ]
    },
    {
     "name": "stdout",
     "output_type": "stream",
     "text": [
      "Wrong guess!\n",
      "\n",
      "\n",
      "  +---+\n",
      "  |   |\n",
      "  O   |\n",
      "  |   |\n",
      "      |\n",
      "=========\n",
      "Word:  _ _ _ _ a\n",
      "Guessed letters: a h t\n",
      "Incorrect guesses left: 4\n",
      "\n"
     ]
    },
    {
     "name": "stdin",
     "output_type": "stream",
     "text": [
      "Enter a single letter:  c\n"
     ]
    },
    {
     "name": "stdout",
     "output_type": "stream",
     "text": [
      "Wrong guess!\n",
      "\n",
      "\n",
      "  +---+\n",
      "  |   |\n",
      "  O   |\n",
      " /|   |\n",
      "      |\n",
      "=========\n",
      "Word:  _ _ _ _ a\n",
      "Guessed letters: a c h t\n",
      "Incorrect guesses left: 3\n",
      "\n"
     ]
    },
    {
     "name": "stdin",
     "output_type": "stream",
     "text": [
      "Enter a single letter:  p\n"
     ]
    },
    {
     "name": "stdout",
     "output_type": "stream",
     "text": [
      "Good guess!\n",
      "\n",
      "\n",
      "  +---+\n",
      "  |   |\n",
      "  O   |\n",
      " /|   |\n",
      "      |\n",
      "=========\n",
      "Word:  p _ _ _ a\n",
      "Guessed letters: a c h p t\n",
      "Incorrect guesses left: 3\n",
      "\n"
     ]
    },
    {
     "name": "stdin",
     "output_type": "stream",
     "text": [
      "Enter a single letter:  i\n"
     ]
    },
    {
     "name": "stdout",
     "output_type": "stream",
     "text": [
      "Good guess!\n",
      "\n",
      "\n",
      "  +---+\n",
      "  |   |\n",
      "  O   |\n",
      " /|   |\n",
      "      |\n",
      "=========\n",
      "Word:  p i _ _ a\n",
      "Guessed letters: a c h i p t\n",
      "Incorrect guesses left: 3\n",
      "\n"
     ]
    },
    {
     "name": "stdin",
     "output_type": "stream",
     "text": [
      "Enter a single letter:  z\n"
     ]
    },
    {
     "name": "stdout",
     "output_type": "stream",
     "text": [
      "Good guess!\n",
      "\n",
      "Congratulations! You guessed the word: pizza\n"
     ]
    }
   ],
   "source": [
    "import random\n",
    "\n",
    "word_list = [\"apple\", \"house\", \"train\", \"chair\", \"pizza\"]\n",
    "secret_word = random.choice(word_list)\n",
    "guessed = set()\n",
    "wrong = set()\n",
    "max_wrong = 6\n",
    "\n",
    "HANGMAN = [\n",
    "r\"\"\"\n",
    "  +---+\n",
    "  |   |\n",
    "      |\n",
    "      |\n",
    "      |\n",
    "=========\"\"\",\n",
    "r\"\"\"\n",
    "  +---+\n",
    "  |   |\n",
    "  O   |\n",
    "      |\n",
    "      |\n",
    "=========\"\"\",\n",
    "r\"\"\"\n",
    "  +---+\n",
    "  |   |\n",
    "  O   |\n",
    "  |   |\n",
    "      |\n",
    "=========\"\"\",\n",
    "r\"\"\"\n",
    "  +---+\n",
    "  |   |\n",
    "  O   |\n",
    " /|   |\n",
    "      |\n",
    "=========\"\"\",\n",
    "r\"\"\"\n",
    "  +---+\n",
    "  |   |\n",
    "  O   |\n",
    " /|\\  |\n",
    "      |\n",
    "=========\"\"\",\n",
    "r\"\"\"\n",
    "  +---+\n",
    "  |   |\n",
    "  O   |\n",
    " /|\\  |\n",
    " /    |\n",
    "=========\"\"\",\n",
    "r\"\"\"\n",
    "  +---+\n",
    "  |   |\n",
    "  O   |\n",
    " /|\\  |\n",
    " / \\  |\n",
    "=========\"\"\",\n",
    "]\n",
    "\n",
    "def display_progress(word, guessed_letters):\n",
    "    return ' '.join(letter if letter in guessed_letters else '_' for letter in word)\n",
    "\n",
    "print(\"Welcome to Hangman!\")\n",
    "print(f\"You have {max_wrong} incorrect guesses allowed.\\n\")\n",
    "\n",
    "while True:\n",
    "    # show hangman stage and word progress\n",
    "    print(HANGMAN[len(wrong)])\n",
    "    print(\"Word: \", display_progress(secret_word, guessed))\n",
    "    print(\"Guessed letters:\", ' '.join(sorted(guessed | wrong)) or \"(none)\")\n",
    "    print(f\"Incorrect guesses left: {max_wrong - len(wrong)}\\n\")\n",
    "\n",
    "    try:\n",
    "        guess = input(\"Enter a single letter: \").strip().lower()\n",
    "    except EOFError:\n",
    "        print(\"\\nNo input available (EOF). Exiting the game.\")\n",
    "        break\n",
    "\n",
    "    if not guess:\n",
    "        print(\"Please type something.\\n\")\n",
    "        continue\n",
    "\n",
    "    if len(guess) != 1 or not guess.isalpha():\n",
    "        print(\"Please enter exactly one letter (a–z).\\n\")\n",
    "        continue\n",
    "\n",
    "    if guess in guessed or guess in wrong:\n",
    "        print(\"You already guessed that letter.\\n\")\n",
    "        continue\n",
    "\n",
    "    if guess in secret_word:\n",
    "        guessed.add(guess)\n",
    "        print(\"Good guess!\\n\")\n",
    "        if all(ch in guessed for ch in secret_word):\n",
    "            print(\"Congratulations! You guessed the word:\", secret_word)\n",
    "            break\n",
    "    else:\n",
    "        wrong.add(guess)\n",
    "        print(\"Wrong guess!\\n\")\n",
    "        if len(wrong) >= max_wrong:\n",
    "            print(HANGMAN[-1])\n",
    "            print(\"You've run out of guesses. The word was:\", secret_word)\n",
    "            break\n"
   ]
  },
  {
   "cell_type": "code",
   "execution_count": null,
   "id": "d1ec2fc5-f51d-44ff-a6cd-26a3e0b60fc2",
   "metadata": {},
   "outputs": [],
   "source": []
  }
 ],
 "metadata": {
  "kernelspec": {
   "display_name": "Python [conda env:base] *",
   "language": "python",
   "name": "conda-base-py"
  },
  "language_info": {
   "codemirror_mode": {
    "name": "ipython",
    "version": 3
   },
   "file_extension": ".py",
   "mimetype": "text/x-python",
   "name": "python",
   "nbconvert_exporter": "python",
   "pygments_lexer": "ipython3",
   "version": "3.12.7"
  }
 },
 "nbformat": 4,
 "nbformat_minor": 5
}
